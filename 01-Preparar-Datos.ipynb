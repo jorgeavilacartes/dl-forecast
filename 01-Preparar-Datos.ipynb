{
 "cells": [
  {
   "cell_type": "code",
   "execution_count": 1,
   "metadata": {},
   "outputs": [],
   "source": [
    "from data_selection import (\n",
    "    PrepareData,\n",
    "    TrainValTestSplit,\n",
    "    TimeSeriesAnalyzer\n",
    ")"
   ]
  },
  {
   "cell_type": "markdown",
   "metadata": {},
   "source": [
    "___\n",
    "# Preparar series de tiempo"
   ]
  },
  {
   "cell_type": "code",
   "execution_count": 2,
   "metadata": {},
   "outputs": [],
   "source": [
    "prepare_data = PrepareData(\n",
    "    path_data=\"data.csv\", \n",
    "    colname_datetime=\"date\",\n",
    "    colname_features=[\"sales_u_day\",\"sales_usd_day\",\"promo\"],\n",
    "    colname_id_time_series=[\"id_product\",\"id_distributor\"]\n",
    ")"
   ]
  },
  {
   "cell_type": "code",
   "execution_count": 3,
   "metadata": {},
   "outputs": [
    {
     "name": "stdout",
     "output_type": "stream",
     "text": [
      "Archivo cargado desde /mnt/atrys/Desafios/data.csv\n",
      "Se encontraron 1000 series de tiempo con id ID_ts.\n",
      "Datos desde 2019-04-08 hasta 2019-12-31, (268 dias) \n",
      "Generando series de tiempo\n"
     ]
    },
    {
     "name": "stderr",
     "output_type": "stream",
     "text": [
      "100%|██████████| 1000/1000 [00:06<00:00, 143.73it/s]\n"
     ]
    }
   ],
   "source": [
    "prepare_data()"
   ]
  },
  {
   "cell_type": "code",
   "execution_count": 4,
   "metadata": {},
   "outputs": [
    {
     "name": "stdout",
     "output_type": "stream",
     "text": [
      "Guardando series de tiempo\n"
     ]
    },
    {
     "name": "stderr",
     "output_type": "stream",
     "text": [
      "100%|██████████| 1000/1000 [00:00<00:00, 4883.58it/s]"
     ]
    },
    {
     "name": "stdout",
     "output_type": "stream",
     "text": [
      "Series de tiempo guardadas en /mnt/atrys/DL-Pipelines/ECG/Supervised_Learning_Forecasting/time_series\n"
     ]
    },
    {
     "name": "stderr",
     "output_type": "stream",
     "text": [
      "\n"
     ]
    }
   ],
   "source": [
    "prepare_data.save()"
   ]
  },
  {
   "cell_type": "markdown",
   "metadata": {},
   "source": [
    "___\n",
    "# Elegir conjuntos de train, val y test"
   ]
  },
  {
   "cell_type": "code",
   "execution_count": 5,
   "metadata": {},
   "outputs": [],
   "source": [
    "import json\n",
    "with open(\"time_series/time_series_config.json\", \"r\", encoding=\"utf8\") as fp:\n",
    "    ts_config = json.load(fp)"
   ]
  },
  {
   "cell_type": "code",
   "execution_count": 6,
   "metadata": {},
   "outputs": [
    {
     "data": {
      "text/plain": [
       "dict_keys(['features', 'timesteps', 'id_time_series', 'basepath_time_series', 'list_min', 'list_max', 'list_mean', 'list_std'])"
      ]
     },
     "execution_count": 6,
     "metadata": {},
     "output_type": "execute_result"
    }
   ],
   "source": [
    "ts_config.keys()"
   ]
  },
  {
   "cell_type": "code",
   "execution_count": 7,
   "metadata": {},
   "outputs": [],
   "source": [
    "inputs_split = dict(\n",
    "    id_time_series = ts_config.get(\"id_time_series\"),\n",
    "    timesteps = ts_config.get(\"timesteps\"),\n",
    "    features = ts_config.get(\"features\"),\n",
    "    basepath_time_series = ts_config.get(\"basepath_time_series\"),\n",
    ")\n",
    "\n",
    "tvt_split = TrainValTestSplit(\n",
    "    **inputs_split\n",
    ")"
   ]
  },
  {
   "cell_type": "code",
   "execution_count": 8,
   "metadata": {},
   "outputs": [
    {
     "name": "stdout",
     "output_type": "stream",
     "text": [
      "Conjuntos de train, val y test creados. Ver atributos .datasets\n"
     ]
    }
   ],
   "source": [
    "# Definir porcentaje de entrenamiento (lo restante se divide a la mitad en val y test)\n",
    "# Definir largo de la entrada y de la salida (este ultimo fijo a 1 para este problema)\n",
    "ds = tvt_split(perc_train = 0.7, len_input=30, len_output=1)"
   ]
  },
  {
   "cell_type": "code",
   "execution_count": 9,
   "metadata": {},
   "outputs": [
    {
     "name": "stdout",
     "output_type": "stream",
     "text": [
      "Guardando conjuntos train, val, test y labels\n",
      "Datos para entrenamiento guardados en /mnt/atrys/DL-Pipelines/ECG/Supervised_Learning_Forecasting/data\n"
     ]
    }
   ],
   "source": [
    "tvt_split.save()"
   ]
  },
  {
   "cell_type": "markdown",
   "metadata": {},
   "source": [
    "___\n",
    "# Remover datos que no cumplen con ciertos filtros\n",
    "- porción maxima de la serie con datos nulos\n",
    "- presencia de features completamente nulas\n",
    "- norma de alguna de las features es menor a eps_norm (para emular lo anterior pero en datos ruidosos)\n",
    "- features que tengan un único valor (constante, igual a un vector nulo para efectos del entrenamiento)"
   ]
  },
  {
   "cell_type": "code",
   "execution_count": 10,
   "metadata": {},
   "outputs": [
    {
     "name": "stdout",
     "output_type": "stream",
     "text": [
      "subtract_mean registered\n",
      "minmax registered\n",
      "znormalization registered\n"
     ]
    }
   ],
   "source": [
    "from model_training import LoadTimeSerie\n",
    "from data_selection import TimeSeriesAnalyzer\n",
    "from model_training import Preprocessing\n",
    "from model_training.utils import (\n",
    "    fromJSON, \n",
    "    asJSON\n",
    ")\n",
    "\n",
    "from tqdm.notebook import tqdm # barra de progreso"
   ]
  },
  {
   "cell_type": "code",
   "execution_count": 11,
   "metadata": {},
   "outputs": [],
   "source": [
    "ts_loader = LoadTimeSerie() # cargar serie de tiempo a numpy (X,y)\n",
    "ts_analyzer = TimeSeriesAnalyzer(\n",
    "    max_zero_timesteps=0.7,  # porcion maxima de la serie con datos nulos\n",
    "    non_zero_features=True,  # rechazar series con al menos una feature nula\n",
    "    eps_norm=0.00001,        # rechazar si la norma de alguna de las features es menor a eps_norm  \n",
    "    features_with_unique_values=False # features con valores unicos (como el vector 'is_promo')\n",
    ")  \n",
    "\n",
    "# Preprocesamiento\n",
    "ts_config = fromJSON(\"time_series/time_series_config.json\")\n",
    "list_min = ts_config.get(\"list_min\")\n",
    "list_max = ts_config.get(\"list_max\")\n",
    "list_std = ts_config.get(\"list_std\")\n",
    "list_mean = ts_config.get(\"list_mean\")\n",
    "\n",
    "# Las funciones que se pueden usar estan en 'model_training/preprocessing.py'\n",
    "preprocessing = Preprocessing([\n",
    "    (\"znormalization\", dict(axis_signal=0, list_mean=list_mean, list_std=list_std ))\n",
    "])"
   ]
  },
  {
   "cell_type": "code",
   "execution_count": 12,
   "metadata": {},
   "outputs": [],
   "source": [
    "# Leer id_ts y analizarlas\n",
    "list_train = fromJSON(\"data/list_train.json\")\n",
    "list_val = fromJSON(\"data/list_val.json\")\n",
    "list_test = fromJSON(\"data/list_test.json\")\n",
    "labels = fromJSON(\"data/labels.json\")\n",
    "\n",
    "def get_clean_list(list_id_ts, labels):\n",
    "    \"Analizar una lista de series de tiempo y retornas solo las que pasan el filtro\"\n",
    "    list_clean = []\n",
    "    for id_ts in tqdm(list_id_ts):\n",
    "        X,y = ts_loader(idx_feature_y=0 , **labels.get(id_ts))\n",
    "        \n",
    "        # Aplicar el filtro\n",
    "        if ts_analyzer(preprocessing(X)):\n",
    "#         if ts_analyzer(X):\n",
    "            list_clean.append(id_ts)\n",
    "    return list_clean"
   ]
  },
  {
   "cell_type": "code",
   "execution_count": 13,
   "metadata": {},
   "outputs": [
    {
     "data": {
      "application/vnd.jupyter.widget-view+json": {
       "model_id": "9853a1239ce849cab8ac0f85691f2959",
       "version_major": 2,
       "version_minor": 0
      },
      "text/plain": [
       "  0%|          | 0/157000 [00:00<?, ?it/s]"
      ]
     },
     "metadata": {},
     "output_type": "display_data"
    },
    {
     "data": {
      "application/vnd.jupyter.widget-view+json": {
       "model_id": "e61a6a44f74c4e86ab8890ef3c28c182",
       "version_major": 2,
       "version_minor": 0
      },
      "text/plain": [
       "  0%|          | 0/10000 [00:00<?, ?it/s]"
      ]
     },
     "metadata": {},
     "output_type": "display_data"
    },
    {
     "data": {
      "application/vnd.jupyter.widget-view+json": {
       "model_id": "572a52eabed04045ae10f8692936aad8",
       "version_major": 2,
       "version_minor": 0
      },
      "text/plain": [
       "  0%|          | 0/11000 [00:00<?, ?it/s]"
      ]
     },
     "metadata": {},
     "output_type": "display_data"
    }
   ],
   "source": [
    "new_list_train = get_clean_list(list_train, labels)\n",
    "new_list_val = get_clean_list(list_val, labels)\n",
    "new_list_test = get_clean_list(list_test, labels)"
   ]
  },
  {
   "cell_type": "code",
   "execution_count": 14,
   "metadata": {},
   "outputs": [],
   "source": [
    "diff_train = len(list_train) - len(new_list_train)\n",
    "diff_val = len(list_val) - len(new_list_val)\n",
    "diff_test = len(list_test) - len(new_list_test)"
   ]
  },
  {
   "cell_type": "code",
   "execution_count": 15,
   "metadata": {},
   "outputs": [
    {
     "name": "stdout",
     "output_type": "stream",
     "text": [
      "\n",
      "Se removieron\n",
      "69035 de entrenamiento. Antes 157000 | Ahora 87965\n",
      "4889 de validacion. Antes 10000 | Ahora 5111\n",
      "7552 de testeo. Antes 11000 | Ahora 3448\n",
      "\n"
     ]
    }
   ],
   "source": [
    "print(f\"\"\"\n",
    "Se removieron\n",
    "{diff_train} de entrenamiento. Antes {len(list_train)} | Ahora {len(new_list_train)}\n",
    "{diff_val} de validacion. Antes {len(list_val)} | Ahora {len(new_list_val)}\n",
    "{diff_test} de testeo. Antes {len(list_test)} | Ahora {len(new_list_test)}\n",
    "\"\"\")"
   ]
  },
  {
   "cell_type": "code",
   "execution_count": 16,
   "metadata": {},
   "outputs": [],
   "source": [
    "asJSON(new_list_train, \"data/list_train.json\", sort_keys=False)\n",
    "asJSON(new_list_val, \"data/list_val.json\", sort_keys=False)\n",
    "asJSON(new_list_test, \"data/list_test.json\", sort_keys=False)"
   ]
  },
  {
   "cell_type": "code",
   "execution_count": null,
   "metadata": {},
   "outputs": [],
   "source": []
  }
 ],
 "metadata": {
  "kernelspec": {
   "display_name": "Python 3",
   "language": "python",
   "name": "python3"
  },
  "language_info": {
   "codemirror_mode": {
    "name": "ipython",
    "version": 3
   },
   "file_extension": ".py",
   "mimetype": "text/x-python",
   "name": "python",
   "nbconvert_exporter": "python",
   "pygments_lexer": "ipython3",
   "version": "3.8.5"
  }
 },
 "nbformat": 4,
 "nbformat_minor": 4
}