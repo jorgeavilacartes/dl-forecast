{
 "cells": [
  {
   "cell_type": "markdown",
   "metadata": {},
   "source": [
    "# Cargar una serie de tiempo "
   ]
  },
  {
   "cell_type": "code",
   "execution_count": 1,
   "metadata": {},
   "outputs": [],
   "source": [
    "from model_training import LoadTimeSerie\n",
    "\n",
    "load_ts = LoadTimeSerie()"
   ]
  },
  {
   "cell_type": "code",
   "execution_count": 2,
   "metadata": {},
   "outputs": [],
   "source": [
    "# Ejemplo de esta serie de tiempo: train_ID-271_cadena-4_001'\n",
    "pos = {'X': [0, 30], 'y': [30, 31]} # Posiciones inicial y final en el array para X (input) e y (output)\n",
    "path_time_serie = '/mnt/atrys/DL-Pipelines/ECG/Supervised_Learning_Forecasting/time_series/numpy/ID-271_cadena-4.npy'"
   ]
  },
  {
   "cell_type": "code",
   "execution_count": 3,
   "metadata": {},
   "outputs": [],
   "source": [
    "# Orden de las columnas en cada serie de tiempo\n",
    "features = [\n",
    "        \"venta_unidades_dia\",\n",
    "        \"venta_clp_dia\",\n",
    "        \"is_promo\"\n",
    "    ]"
   ]
  },
  {
   "cell_type": "markdown",
   "metadata": {},
   "source": [
    "**Para un output**"
   ]
  },
  {
   "cell_type": "code",
   "execution_count": 4,
   "metadata": {},
   "outputs": [
    {
     "data": {
      "text/plain": [
       "((30, 3), (1,))"
      ]
     },
     "execution_count": 4,
     "metadata": {},
     "output_type": "execute_result"
    }
   ],
   "source": [
    "# output a retornar (columnas de la serie de tiempo)\n",
    "idx_feature_y = features.index(\"venta_clp_dia\")\n",
    "\n",
    "X,y = load_ts(path_time_serie, pos, idx_feature_y)\n",
    "X.shape, y.shape"
   ]
  },
  {
   "cell_type": "markdown",
   "metadata": {},
   "source": [
    "\n",
    "**Mas de un output**"
   ]
  },
  {
   "cell_type": "code",
   "execution_count": 5,
   "metadata": {},
   "outputs": [
    {
     "data": {
      "text/plain": [
       "((30, 3), (1, 2))"
      ]
     },
     "execution_count": 5,
     "metadata": {},
     "output_type": "execute_result"
    }
   ],
   "source": [
    "# output a retornar (columnas de la serie de tiempo)\n",
    "idx_feature_y = [features.index(\"venta_clp_dia\"), features.index(\"venta_unidades_dia\")]\n",
    "\n",
    "X, y = load_ts(path_time_serie, pos, idx_feature_y)\n",
    "X.shape, y.shape"
   ]
  },
  {
   "cell_type": "markdown",
   "metadata": {},
   "source": [
    "___\n",
    "# Usar el generador de datos"
   ]
  },
  {
   "cell_type": "code",
   "execution_count": 6,
   "metadata": {},
   "outputs": [],
   "source": [
    "from model_training import DataGenerator"
   ]
  },
  {
   "cell_type": "code",
   "execution_count": 7,
   "metadata": {},
   "outputs": [],
   "source": [
    "import json\n",
    "with open(\"data/labels.json\") as fp:\n",
    "    labels = json.load(fp)\n",
    "    \n",
    "with open(\"data/list_train.json\") as fp:\n",
    "    list_train = json.load(fp)"
   ]
  },
  {
   "cell_type": "code",
   "execution_count": 8,
   "metadata": {},
   "outputs": [],
   "source": [
    "from model_training import LoadTimeSerie\n",
    "\n",
    "load_ts = LoadTimeSerie()"
   ]
  },
  {
   "cell_type": "code",
   "execution_count": 9,
   "metadata": {},
   "outputs": [],
   "source": [
    "# Orden de las columnas en cada serie de tiempo\n",
    "features = [\n",
    "        \"venta_unidades_dia\",\n",
    "        \"venta_clp_dia\",\n",
    "        \"is_promo\"\n",
    "    ]\n",
    "\n",
    "idx_feature_y = [features.index(\"venta_unidades_dia\")]\n",
    "\n",
    "inputs_data_gen = dict(\n",
    "    list_id_ts=list_train,\n",
    "    labels=labels,\n",
    "    idx_feature_y = idx_feature_y,\n",
    "    file_loader = load_ts, # from file to array\n",
    "    preprocessing = None, \n",
    "    shuffle=True,\n",
    "    batch_size=4,\n",
    ")\n",
    "train_gen = DataGenerator(**inputs_data_gen)"
   ]
  },
  {
   "cell_type": "code",
   "execution_count": 10,
   "metadata": {},
   "outputs": [],
   "source": [
    "X,y = train_gen.__getitem__(0)"
   ]
  },
  {
   "cell_type": "code",
   "execution_count": 11,
   "metadata": {},
   "outputs": [
    {
     "data": {
      "text/plain": [
       "(4, 30, 3)"
      ]
     },
     "execution_count": 11,
     "metadata": {},
     "output_type": "execute_result"
    }
   ],
   "source": [
    "X.shape"
   ]
  },
  {
   "cell_type": "code",
   "execution_count": 12,
   "metadata": {},
   "outputs": [
    {
     "data": {
      "text/plain": [
       "(4, 1, 1)"
      ]
     },
     "execution_count": 12,
     "metadata": {},
     "output_type": "execute_result"
    }
   ],
   "source": [
    "y.shape"
   ]
  },
  {
   "cell_type": "markdown",
   "metadata": {},
   "source": [
    "# Preprocesamiento"
   ]
  },
  {
   "cell_type": "code",
   "execution_count": 13,
   "metadata": {},
   "outputs": [
    {
     "name": "stdout",
     "output_type": "stream",
     "text": [
      "subtract_mean registered\n",
      "minmax registered\n",
      "znormalization registered\n"
     ]
    }
   ],
   "source": [
    "from model_training.preprocessing import Pipeline as Preprocessing"
   ]
  },
  {
   "cell_type": "code",
   "execution_count": 14,
   "metadata": {},
   "outputs": [],
   "source": [
    "with open(\"time_series/time_series_config.json\") as fp:\n",
    "    ts_config = json.load(fp)\n",
    "\n",
    "list_min = ts_config.get(\"list_min\")\n",
    "list_max = ts_config.get(\"list_max\")\n",
    "prep = Preprocessing([\n",
    "    (\"minmax\", dict(axis_signal=0, list_min=list_min, list_max=list_max ))\n",
    "])"
   ]
  },
  {
   "cell_type": "code",
   "execution_count": 15,
   "metadata": {},
   "outputs": [],
   "source": [
    "prep = Preprocessing([\n",
    "    (\"minmax\", dict(axis_signal=0, list_min=list_min, list_max=list_max ))\n",
    "])"
   ]
  },
  {
   "cell_type": "code",
   "execution_count": 16,
   "metadata": {},
   "outputs": [],
   "source": [
    "time_serie = X[2]\n",
    "x = prep(time_serie)"
   ]
  },
  {
   "cell_type": "code",
   "execution_count": 17,
   "metadata": {},
   "outputs": [
    {
     "data": {
      "text/plain": [
       "array([[2.42083140e-04, 4.02749406e-04, 1.00000000e-06],\n",
       "       [3.02603922e-04, 5.03436758e-04, 1.00000000e-06],\n",
       "       [3.63124703e-04, 6.04124109e-04, 1.00000000e-06],\n",
       "       [8.32160758e-04, 1.38445108e-03, 1.00000000e-06],\n",
       "       [3.02603922e-04, 5.00418365e-04, 1.00000000e-06],\n",
       "       [1.21041578e-04, 2.01374703e-04, 1.00000000e-06],\n",
       "       [2.72343531e-04, 4.53093082e-04, 1.00000000e-06],\n",
       "       [3.17734117e-04, 4.30371600e-04, 1.00000100e+00],\n",
       "       [6.35468219e-04, 8.65421152e-04, 1.00000100e+00],\n",
       "       [9.22941930e-04, 1.25012703e-03, 1.00000100e+00],\n",
       "       [8.92681540e-04, 1.20911698e-03, 1.00000100e+00],\n",
       "       [4.23645484e-04, 5.65219140e-04, 1.00000100e+00],\n",
       "       [4.23645484e-04, 5.70699027e-04, 1.00000100e+00],\n",
       "       [5.44687047e-04, 7.37779886e-04, 1.00000100e+00],\n",
       "       [6.05207828e-04, 8.05710434e-04, 1.00000100e+00],\n",
       "       [5.90077633e-04, 7.99261543e-04, 1.00000100e+00],\n",
       "       [1.40710818e-03, 1.90125342e-03, 1.00000100e+00],\n",
       "       [1.52814974e-03, 2.06988246e-03, 1.00000100e+00],\n",
       "       [8.77551344e-04, 1.15914086e-03, 1.00000100e+00],\n",
       "       [5.74947438e-04, 7.55377896e-04, 1.00000100e+00],\n",
       "       [6.05207828e-04, 8.19755429e-04, 1.00000100e+00],\n",
       "       [4.08515289e-04, 5.08482263e-04, 1.00000100e+00],\n",
       "       [4.99296461e-04, 6.27647526e-04, 1.00000100e+00],\n",
       "       [6.95989000e-04, 8.56265732e-04, 1.00000100e+00],\n",
       "       [9.22941930e-04, 1.19305601e-03, 1.00000100e+00],\n",
       "       [6.50598414e-04, 8.66991608e-04, 1.00000100e+00],\n",
       "       [4.99296461e-04, 6.62264372e-04, 1.00000100e+00],\n",
       "       [2.11822750e-04, 2.46349872e-04, 1.00000100e+00],\n",
       "       [3.63124703e-04, 4.43024347e-04, 1.00000100e+00],\n",
       "       [2.72343531e-04, 3.48819300e-04, 1.00000100e+00]])"
      ]
     },
     "execution_count": 17,
     "metadata": {},
     "output_type": "execute_result"
    }
   ],
   "source": [
    "x"
   ]
  },
  {
   "cell_type": "markdown",
   "metadata": {},
   "source": [
    "# TimeSerieAnalyzer"
   ]
  },
  {
   "cell_type": "code",
   "execution_count": 18,
   "metadata": {},
   "outputs": [
    {
     "ename": "ValueError",
     "evalue": "The truth value of an array with more than one element is ambiguous. Use a.any() or a.all()",
     "output_type": "error",
     "traceback": [
      "\u001b[0;31m---------------------------------------------------------------------------\u001b[0m",
      "\u001b[0;31mValueError\u001b[0m                                Traceback (most recent call last)",
      "\u001b[0;32m<ipython-input-18-2c6720836a60>\u001b[0m in \u001b[0;36m<module>\u001b[0;34m\u001b[0m\n\u001b[1;32m      4\u001b[0m \u001b[0;34m\u001b[0m\u001b[0m\n\u001b[1;32m      5\u001b[0m )\n\u001b[0;32m----> 6\u001b[0;31m \u001b[0mts_analyzer\u001b[0m\u001b[0;34m(\u001b[0m\u001b[0mtime_serie\u001b[0m\u001b[0;34m)\u001b[0m\u001b[0;34m\u001b[0m\u001b[0;34m\u001b[0m\u001b[0m\n\u001b[0m",
      "\u001b[0;32m/mnt/atrys/DL-Pipelines/ECG/Supervised_Learning_Forecasting/data_selection/time_series_analyzer.py\u001b[0m in \u001b[0;36m__call__\u001b[0;34m(self, time_serie)\u001b[0m\n\u001b[1;32m     21\u001b[0m         \u001b[0mfilter_by_eps_norm\u001b[0m \u001b[0;34m=\u001b[0m \u001b[0mself\u001b[0m\u001b[0;34m.\u001b[0m\u001b[0mover_eps_norm\u001b[0m\u001b[0;34m(\u001b[0m\u001b[0mtime_serie\u001b[0m\u001b[0;34m)\u001b[0m\u001b[0;34m\u001b[0m\u001b[0;34m\u001b[0m\u001b[0m\n\u001b[1;32m     22\u001b[0m         \u001b[0mfilter_unique_values\u001b[0m \u001b[0;34m=\u001b[0m \u001b[0mself\u001b[0m\u001b[0;34m.\u001b[0m\u001b[0munique_value_by_features\u001b[0m\u001b[0;34m(\u001b[0m\u001b[0mtime_serie\u001b[0m\u001b[0;34m)\u001b[0m\u001b[0;34m\u001b[0m\u001b[0;34m\u001b[0m\u001b[0m\n\u001b[0;32m---> 23\u001b[0;31m         \u001b[0mfilter_nan_values\u001b[0m \u001b[0;34m=\u001b[0m \u001b[0mself\u001b[0m\u001b[0;34m.\u001b[0m\u001b[0mommit_nan\u001b[0m\u001b[0;34m(\u001b[0m\u001b[0mtime_serie\u001b[0m\u001b[0;34m)\u001b[0m\u001b[0;34m\u001b[0m\u001b[0;34m\u001b[0m\u001b[0m\n\u001b[0m\u001b[1;32m     24\u001b[0m \u001b[0;34m\u001b[0m\u001b[0m\n\u001b[1;32m     25\u001b[0m         \u001b[0;31m# Agregar filtros a una lista\u001b[0m\u001b[0;34m\u001b[0m\u001b[0;34m\u001b[0m\u001b[0;34m\u001b[0m\u001b[0m\n",
      "\u001b[0;32m/mnt/atrys/DL-Pipelines/ECG/Supervised_Learning_Forecasting/data_selection/time_series_analyzer.py\u001b[0m in \u001b[0;36mommit_nan\u001b[0;34m(self, time_serie)\u001b[0m\n\u001b[1;32m     99\u001b[0m     \u001b[0;32mdef\u001b[0m \u001b[0mommit_nan\u001b[0m\u001b[0;34m(\u001b[0m\u001b[0mself\u001b[0m\u001b[0;34m,\u001b[0m \u001b[0mtime_serie\u001b[0m\u001b[0;34m)\u001b[0m\u001b[0;34m:\u001b[0m\u001b[0;34m\u001b[0m\u001b[0;34m\u001b[0m\u001b[0m\n\u001b[1;32m    100\u001b[0m         \u001b[0;34m\"Omitir una serie de tiempo si tiene valores NaN\"\u001b[0m\u001b[0;34m\u001b[0m\u001b[0;34m\u001b[0m\u001b[0m\n\u001b[0;32m--> 101\u001b[0;31m         \u001b[0mhas_nan_values\u001b[0m \u001b[0;34m=\u001b[0m \u001b[0many\u001b[0m\u001b[0;34m(\u001b[0m\u001b[0mlist\u001b[0m\u001b[0;34m(\u001b[0m\u001b[0mnp\u001b[0m\u001b[0;34m.\u001b[0m\u001b[0misnan\u001b[0m\u001b[0;34m(\u001b[0m\u001b[0mtime_serie\u001b[0m\u001b[0;34m)\u001b[0m\u001b[0;34m)\u001b[0m\u001b[0;34m)\u001b[0m\u001b[0;34m\u001b[0m\u001b[0;34m\u001b[0m\u001b[0m\n\u001b[0m\u001b[1;32m    102\u001b[0m         \u001b[0;32mreturn\u001b[0m \u001b[0;32mFalse\u001b[0m \u001b[0;32mif\u001b[0m \u001b[0many\u001b[0m\u001b[0;34m(\u001b[0m\u001b[0mhas_nan_values\u001b[0m\u001b[0;34m)\u001b[0m \u001b[0;32melse\u001b[0m \u001b[0;32mTrue\u001b[0m\u001b[0;34m\u001b[0m\u001b[0;34m\u001b[0m\u001b[0m\n\u001b[1;32m    103\u001b[0m \u001b[0;34m\u001b[0m\u001b[0m\n",
      "\u001b[0;31mValueError\u001b[0m: The truth value of an array with more than one element is ambiguous. Use a.any() or a.all()"
     ]
    }
   ],
   "source": [
    "from data_selection import TimeSeriesAnalyzer\n",
    "ts_analyzer = TimeSeriesAnalyzer(\n",
    "    max_zero_timesteps=0.5,\n",
    "\n",
    ")\n",
    "ts_analyzer(time_serie)"
   ]
  },
  {
   "cell_type": "code",
   "execution_count": 26,
   "metadata": {},
   "outputs": [
    {
     "data": {
      "text/plain": [
       "False"
      ]
     },
     "execution_count": 26,
     "metadata": {},
     "output_type": "execute_result"
    }
   ],
   "source": [
    "import numpy as np\n",
    "any(np.isnan(time_serie).flatten())"
   ]
  },
  {
   "cell_type": "code",
   "execution_count": null,
   "metadata": {},
   "outputs": [],
   "source": []
  },
  {
   "cell_type": "code",
   "execution_count": null,
   "metadata": {},
   "outputs": [],
   "source": []
  }
 ],
 "metadata": {
  "kernelspec": {
   "display_name": "Python 3",
   "language": "python",
   "name": "python3"
  },
  "language_info": {
   "codemirror_mode": {
    "name": "ipython",
    "version": 3
   },
   "file_extension": ".py",
   "mimetype": "text/x-python",
   "name": "python",
   "nbconvert_exporter": "python",
   "pygments_lexer": "ipython3",
   "version": "3.8.5"
  }
 },
 "nbformat": 4,
 "nbformat_minor": 4
}
